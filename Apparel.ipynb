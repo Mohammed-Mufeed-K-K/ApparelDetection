{
 "cells": [
  {
   "cell_type": "code",
   "execution_count": null,
   "id": "546f82fc",
   "metadata": {
    "scrolled": false
   },
   "outputs": [],
   "source": [
    "from ultralytics import YOLO\n",
    "\n",
    "model = YOLO(\"yolov8m.yaml\")  # build a new model from scratch\n",
    "\n",
    "# Use the model\n",
    "model.train(data=\"datasety.yaml\", epochs=10)"
   ]
  },
  {
   "cell_type": "code",
   "execution_count": 4,
   "id": "d1b6ee58",
   "metadata": {},
   "outputs": [
    {
     "name": "stderr",
     "output_type": "stream",
     "text": [
      "Ultralytics YOLOv8.0.141  Python-3.11.3 torch-2.0.1+cpu CPU (AMD Ryzen 5 5500U with Radeon Graphics)\n",
      "YOLOv8m summary (fused): 218 layers, 25847287 parameters, 0 gradients\n",
      "\u001b[34m\u001b[1mval: \u001b[0mScanning C:\\Users\\91735\\Documents\\Apparell\\dataset\\val\\labels.cache... 2000 images, 0 backgrounds, 0 corrupt: 100%\u001b[0m\n",
      "                 Class     Images  Instances      Box(P          R      mAP50  mAP50-95): 100%|██████████| 125/125 [23:\n",
      "                   all       2000       3313      0.641      0.538      0.551      0.443\n",
      "            sleeve top       2000        806       0.73      0.878      0.897      0.755\n",
      "       long sleeve top       2000        347      0.622      0.689      0.695       0.56\n",
      "  short sleeve outwear       2000         13          1          0     0.0276     0.0247\n",
      "   long sleeve outwear       2000        111      0.444      0.622      0.574      0.408\n",
      "                  vest       2000        163      0.588      0.675      0.645      0.493\n",
      "                 sling       2000         32          1          0     0.0779     0.0531\n",
      "                shorts       2000        269      0.604      0.766      0.777      0.606\n",
      "              trousers       2000        610      0.806       0.88      0.911      0.713\n",
      "                 skirt       2000        419      0.703      0.728      0.764      0.627\n",
      "    short sleeve dress       2000        181      0.485      0.652       0.56      0.497\n",
      "     long sleeve dress       2000         98      0.465      0.354      0.397      0.331\n",
      "            vest dress       2000        197      0.504      0.675       0.63      0.527\n",
      "           sling dress       2000         67      0.385     0.0748      0.213      0.164\n",
      "Speed: 3.0ms preprocess, 674.5ms inference, 0.0ms loss, 0.9ms postprocess per image\n",
      "Results saved to \u001b[1mruns\\detect\\val\u001b[0m\n"
     ]
    }
   ],
   "source": [
    "from ultralytics import YOLO\n",
    "import os\n",
    "model_path = os.path.join('.','runs','detect','train23','weights','best.pt')\n",
    "\n",
    "\n",
    "model = YOLO(model_path) \n",
    "metrics = model.val()"
   ]
  },
  {
   "cell_type": "code",
   "execution_count": null,
   "id": "722ed5f6",
   "metadata": {
    "scrolled": true
   },
   "outputs": [],
   "source": []
  },
  {
   "cell_type": "code",
   "execution_count": null,
   "id": "e5efe367",
   "metadata": {},
   "outputs": [],
   "source": []
  },
  {
   "cell_type": "code",
   "execution_count": null,
   "id": "2bcb3c28",
   "metadata": {},
   "outputs": [],
   "source": []
  },
  {
   "cell_type": "code",
   "execution_count": null,
   "id": "316cf615",
   "metadata": {},
   "outputs": [],
   "source": []
  }
 ],
 "metadata": {
  "kernelspec": {
   "display_name": "Python 3 (ipykernel)",
   "language": "python",
   "name": "python3"
  },
  "language_info": {
   "codemirror_mode": {
    "name": "ipython",
    "version": 3
   },
   "file_extension": ".py",
   "mimetype": "text/x-python",
   "name": "python",
   "nbconvert_exporter": "python",
   "pygments_lexer": "ipython3",
   "version": "3.11.3"
  }
 },
 "nbformat": 4,
 "nbformat_minor": 5
}
