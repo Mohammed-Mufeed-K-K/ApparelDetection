{
 "cells": [
  {
   "cell_type": "code",
   "execution_count": null,
   "id": "78462acd",
   "metadata": {},
   "outputs": [],
   "source": [
    "#Find Apparel in Real-Time\n",
    "\n",
    "import cv2\n",
    "import os\n",
    "from ultralytics import YOLO\n",
    "\n",
    "model_path = os.path.join('.', 'runs', 'detect', 'train23', 'weights', 'best.pt')\n",
    "model = YOLO(model_path)\n",
    "\n",
    "threshold = 0.5\n",
    "\n",
    "class_names = {\n",
    "    0: 'sleeve top',\n",
    "    1: 'long sleeve top',\n",
    "    2: 'short sleeve outwear',\n",
    "    3: 'long sleeve outwear',\n",
    "    4: 'vest',\n",
    "    5: 'sling',\n",
    "    6: 'shorts',\n",
    "    7: 'trousers',\n",
    "    8: 'skirt',\n",
    "    9: 'short sleeve dress',\n",
    "    10: 'long sleeve dress',\n",
    "    11: 'vest dress',\n",
    "    12: 'sling dress'\n",
    "}\n",
    "\n",
    "\n",
    "cap = cv2.VideoCapture(0)  \n",
    "\n",
    "while cap.isOpened():\n",
    "    ret, frame = cap.read()\n",
    "\n",
    "    if not ret:\n",
    "        break\n",
    "\n",
    "    results = model(frame)[0]\n",
    "\n",
    "    for result in results.boxes.data.tolist():\n",
    "        x1, y1, x2, y2, score, class_id = result\n",
    "\n",
    "        if score > threshold:\n",
    "            cv2.rectangle(frame, (int(x1), int(y1)), (int(x2), int(y2)), (0, 255, 0), 4)\n",
    "            cv2.putText(frame, class_names[int(class_id)].upper(), (int(x1), int(y1 - 10)),\n",
    "                        cv2.FONT_HERSHEY_SIMPLEX, 1.3, (0, 255, 0), 3, cv2.LINE_AA)\n",
    "\n",
    "    cv2.imshow('Real-Time Object Detection', frame)\n",
    "\n",
    "    key = cv2.waitKey(1) & 0xFF\n",
    "    if key == ord('q'):\n",
    "        break\n",
    "\n",
    "cap.release()\n",
    "cv2.destroyAllWindows()\n"
   ]
  }
 ],
 "metadata": {
  "kernelspec": {
   "display_name": "Python 3 (ipykernel)",
   "language": "python",
   "name": "python3"
  },
  "language_info": {
   "codemirror_mode": {
    "name": "ipython",
    "version": 3
   },
   "file_extension": ".py",
   "mimetype": "text/x-python",
   "name": "python",
   "nbconvert_exporter": "python",
   "pygments_lexer": "ipython3",
   "version": "3.11.3"
  }
 },
 "nbformat": 4,
 "nbformat_minor": 5
}
